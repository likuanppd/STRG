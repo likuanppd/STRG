{
 "cells": [
  {
   "cell_type": "code",
   "execution_count": 1,
   "id": "1aaa4b12",
   "metadata": {},
   "outputs": [],
   "source": [
    "import torch\n",
    "from deeprobust.graph.utils import *"
   ]
  },
  {
   "cell_type": "code",
   "execution_count": 17,
   "id": "661ced09",
   "metadata": {},
   "outputs": [],
   "source": [
    "ptb_rate=0.2\n",
    "graph = torch.load('./mettack_pubmed%s.pt'%str(ptb_rate))"
   ]
  },
  {
   "cell_type": "code",
   "execution_count": 18,
   "id": "c0cc4bde",
   "metadata": {},
   "outputs": [],
   "source": [
    "graph = to_scipy(graph)\n",
    "graph = sparse_mx_to_torch_sparse_tensor(graph)"
   ]
  },
  {
   "cell_type": "code",
   "execution_count": 19,
   "id": "dac69d59",
   "metadata": {},
   "outputs": [],
   "source": [
    "torch.save(graph, './mettack_pubmed%s.pt'%str(ptb_rate))"
   ]
  },
  {
   "cell_type": "code",
   "execution_count": null,
   "id": "3fde6342",
   "metadata": {},
   "outputs": [],
   "source": []
  }
 ],
 "metadata": {
  "kernelspec": {
   "display_name": "Python 3",
   "language": "python",
   "name": "python3"
  },
  "language_info": {
   "codemirror_mode": {
    "name": "ipython",
    "version": 3
   },
   "file_extension": ".py",
   "mimetype": "text/x-python",
   "name": "python",
   "nbconvert_exporter": "python",
   "pygments_lexer": "ipython3",
   "version": "3.8.8"
  }
 },
 "nbformat": 4,
 "nbformat_minor": 5
}
